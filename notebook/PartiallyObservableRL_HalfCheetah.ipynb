{
  "cells": [
    {
      "cell_type": "markdown",
      "metadata": {
        "id": "view-in-github"
      },
      "source": [
        "<a href=\"https://colab.research.google.com/github/shinji-ohkubo/CfC/blob/main/ltc_irregularly_sampled_time_pip_editable.ipynb\" target=\"_parent\"><img src=\"https://colab.research.google.com/assets/colab-badge.svg\" alt=\"Open In Colab\"/></a>"
      ]
    },
    {
      "cell_type": "code",
      "source": [
        "#@markdown # test tensorflow gpu compativle check.\n",
        "!nvidia-smi\n",
        "!nvcc -V\n",
        "!python --version\n",
        "#!pip list"
      ],
      "metadata": {
        "id": "TSWiXT9qKVv0"
      },
      "execution_count": null,
      "outputs": []
    },
    {
      "cell_type": "code",
      "source": [
        "#@markdown ***各種実験***\n",
        "# TensorFlow の動作テスト\n",
        "import tensorflow as tf\n",
        "from tensorflow.keras.backend import eval\n",
        "\n",
        "def example(hello):\n",
        "    a = tf.Variable(2, name=\"a\", dtype=tf.int32)\n",
        "    b = tf.Variable(3, name=\"b\", dtype=tf.int32)\n",
        "    c = tf.Variable(6, name=\"c\", dtype=tf.int32)\n",
        "    sum = tf.add_n([tf.square(a), tf.square(b), tf.square(c)], name=\"squared_distance\") # 加算\n",
        "    output = tf.sqrt(tf.cast(sum, dtype=tf.float32), name=\"distance\")  # ルート計算\n",
        "\n",
        "#hello = tf.constant('Hello, TensorFlow!')\n",
        "f = tf.function(example)\n",
        "print(eval(f))\n"
      ],
      "metadata": {
        "colab": {
          "base_uri": "https://localhost:8080/"
        },
        "id": "fDcxdeZDBuyJ",
        "outputId": "9768ef69-2a13-4203-c6cf-897d81c58fd1"
      },
      "execution_count": null,
      "outputs": [
        {
          "output_type": "stream",
          "name": "stdout",
          "text": [
            "<tensorflow.python.eager.polymorphic_function.polymorphic_function.Function object at 0x7b3068086680>\n"
          ]
        }
      ]
    },
    {
      "cell_type": "markdown",
      "source": [
        "# **mount Google Drive**"
      ],
      "metadata": {
        "id": "lxqBwe9mTdZg"
      }
    },
    {
      "cell_type": "code",
      "source": [
        "from IPython.display import clear_output, display\n",
        "import ipywidgets as widgets\n",
        "import os\n",
        "from google.colab import drive\n",
        "from pathlib import Path\n",
        "\n",
        "def inf(msg, style, wdth): inf = widgets.Button(description=msg, disabled=True, button_style=style, layout=widgets.Layout(min_width=wdth));display(inf)\n",
        "if os.path.exists('/content/drive/MyDrive/Colab Notebooks'):\n",
        "  print(\"\u001b[0;33mAlready Clone\")\n",
        "else:\n",
        "  drive.mount('/content/drive')\n",
        "inf('\\u2714 Done','success', '50px')"
      ],
      "metadata": {
        "colab": {
          "base_uri": "https://localhost:8080/",
          "referenced_widgets": [
            "b5f1f8473dd940329fd368394d4df01c",
            "21c32a74dcf24c90ac635f43fd488a41",
            "c77a4055ae454b10b7b2efa67d061bc7"
          ]
        },
        "id": "JHtEZHsNuWUI",
        "outputId": "ddc22ebf-18c5-47fe-96fe-5d12bab33f38"
      },
      "execution_count": null,
      "outputs": [
        {
          "output_type": "stream",
          "name": "stdout",
          "text": [
            "\u001b[0;33mAlready Clone\n"
          ]
        },
        {
          "output_type": "display_data",
          "data": {
            "text/plain": [
              "Button(button_style='success', description='✔ Done', disabled=True, layout=Layout(min_width='50px'), style=But…"
            ],
            "application/vnd.jupyter.widget-view+json": {
              "version_major": 2,
              "version_minor": 0,
              "model_id": "b5f1f8473dd940329fd368394d4df01c"
            }
          },
          "metadata": {}
        }
      ]
    },
    {
      "cell_type": "markdown",
      "source": [
        "# **git clone ncps to google drive setting**"
      ],
      "metadata": {
        "id": "n6GPcUroUIhB"
      }
    },
    {
      "cell_type": "code",
      "source": [
        "google_drive_folder = \"Colab Notebooks\" #@param {type:\"string\"}\n",
        "#git_colone_URL= \"https://github.com/mlech26l/ncps.git\" #@param {type:\"string\"}\n",
        "git_colone_URL= \"https://github.com/shinji-ohkubo/ncps.git\"\n",
        "project_folder = \"ncps\" #@param {type:\"string\"}\n",
        "branch = \"master\" #@param {type:\"string\"}\n",
        "inf('\\u2714 Done','success', '50px')"
      ],
      "metadata": {
        "colab": {
          "base_uri": "https://localhost:8080/",
          "referenced_widgets": [
            "8dc3e9b9aa29452881a70916f140b425",
            "96004815cc124e00be70d580ae8c0a00",
            "c8e74f86454e4ce8b88d643317437ab7"
          ]
        },
        "id": "3VFtJulDS6Be",
        "outputId": "2459749a-0233-4424-9ed9-e7be6b032d97"
      },
      "execution_count": null,
      "outputs": [
        {
          "output_type": "display_data",
          "data": {
            "text/plain": [
              "Button(button_style='success', description='✔ Done', disabled=True, layout=Layout(min_width='50px'), style=But…"
            ],
            "application/vnd.jupyter.widget-view+json": {
              "version_major": 2,
              "version_minor": 0,
              "model_id": "8dc3e9b9aa29452881a70916f140b425"
            }
          },
          "metadata": {}
        }
      ]
    },
    {
      "cell_type": "code",
      "execution_count": null,
      "metadata": {
        "colab": {
          "base_uri": "https://localhost:8080/",
          "referenced_widgets": [
            "2a439cbde5df467586b71944682f9f7d",
            "44bdbbfb3a2449df9d126bdaaf3ecbac",
            "68b09618ac8e4c7b84568c94c30be94e"
          ]
        },
        "id": "UgD_egfex02C",
        "outputId": "e9a204e0-cd81-4e7d-8423-1e4c7dff97de"
      },
      "outputs": [
        {
          "output_type": "stream",
          "name": "stdout",
          "text": [
            "google_drive_folder:Colab Notebooks\n",
            "cd /content/drive/MyDrive/Colab Notebooks\n",
            "/content/drive/MyDrive/Colab Notebooks\n",
            "\u001b[0;33mAlready Clone\n"
          ]
        },
        {
          "output_type": "display_data",
          "data": {
            "text/plain": [
              "Button(button_style='success', description='✔ Done', disabled=True, layout=Layout(min_width='50px'), style=But…"
            ],
            "application/vnd.jupyter.widget-view+json": {
              "version_major": 2,
              "version_minor": 0,
              "model_id": "2a439cbde5df467586b71944682f9f7d"
            }
          },
          "metadata": {}
        }
      ],
      "source": [
        "# **git clone ncps to google drive Run**\n",
        "print(f'google_drive_folder:{google_drive_folder}')\n",
        "main_path = Path('/content/drive/MyDrive', google_drive_folder)\n",
        "\n",
        "if not main_path.exists():\n",
        "  print(f'\u001b[1;31mGdrive not connected.({main_path})')\n",
        "  inf('\\u2718 Failed','danger', '50px')\n",
        "else:\n",
        "  print(f\"cd {main_path}\")\n",
        "  %cd $main_path\n",
        "\n",
        "  project_path = main_path.joinpath(project_folder)\n",
        "  if not project_path.exists():\n",
        "    fgitclone = \"git clone --depth 1\"\n",
        "    print(f\"git clone -q --branch master {git_colone_URL}: {project_folder}\")\n",
        "    print(\"\u001b[0;33mConnecting...\")\n",
        "    !git clone -q --branch $branch $git_colone_URL $project_folder\n",
        "    !cd $project_folder\n",
        "    !git reset --hard\n",
        "    !git checkout master\n",
        "    !git pull\n",
        "  else:\n",
        "    print(\"\u001b[0;33mAlready Clone\")\n",
        "    !cd $project_folder\n",
        "\n",
        "  if os.path.exists(project_path):\n",
        "    inf('\\u2714 Done','success', '50px')\n",
        "    #clear_output()\n",
        "  else:\n",
        "    inf('\\u2718 Failed','danger', '50px')\n",
        "    #clear_output()\n"
      ]
    },
    {
      "cell_type": "markdown",
      "source": [
        "# **Install dependencies if they are not installed yet**"
      ],
      "metadata": {
        "id": "rdn8_JgeC5lb"
      }
    },
    {
      "cell_type": "code",
      "execution_count": null,
      "metadata": {
        "id": "Z9hI-sTeuhos"
      },
      "outputs": [],
      "source": [
        "#!pip install ncps\n",
        "#print(f\"project_directory = {project_path}\")\n",
        "#clear_output()\n",
        "ncp_package_path = project_path\n",
        "\n",
        "#!pwd\n",
        "!echo $ncp_package_path\n",
        "#!ls -a\n",
        "%cd $ncp_package_path\n",
        "#!git checkout master\n",
        "!git stash\n",
        "!git pull\n",
        "\n",
        "!pwd\n",
        "!pip install -r requirements.txt\n",
        "#!pwd\n",
        "!pip install --editable . --user --upgrade\n",
        "#print(\"\u001b[0;33mAlready Clone\")\n",
        "#clear_output()\n",
        "inf('\\u2714 Done','success', '50px')"
      ]
    },
    {
      "cell_type": "code",
      "source": [
        "# git clone ray[rllib] to google drive\n",
        "import os\n",
        "\n",
        "#!pip list\n",
        "!pip uninstall ray -y\n",
        "!pip install \"ray[tune]\"\n",
        "\n",
        "%cd $ncp_package_path\n",
        "\n",
        "ray_module_path = ncp_package_path.joinpath(\"ray\")\n",
        "print(f\"ray module path ={ray_module_path}\")\n",
        "# rllib は、gitから 必要なモジュールを上書きしてそこだけビルドしたほうがいいらしい。\n",
        "# https://qiita.com/omuram/items/d1f91831e48b1b1eb8e0\n",
        "#　ray公式にも書いてある\n",
        "# https://docs.ray.io/en/latest/ray-contribute/development.html#building-ray\n",
        "# ベースの ray は　whlで入れる\n",
        "#!pip install -U ./install/ray-3.0.0.dev0-cp310-cp310-manylinux2014_x86_64.whl\n",
        "\n",
        "git_clone_fok_URL_ray= \"https://github.com/shinji-ohkubo/ray.git\"\n",
        "branch = \"master\"\n",
        "\n",
        "fgitclone = \"git clone --depth 1\"\n",
        "print(f\"git clone -q --branch master {git_clone_fok_URL_ray}: {project_folder}\")\n",
        "print(\"\u001b[0;33mConnecting...\")\n",
        "!git clone -q --branch $branch $git_clone_fok_URL_ray\n",
        "# !git clone -q --branch $branch $git_colone_URL_ray $project_directory\n",
        "# !cd $main_path/$project_directory\n",
        "# !git reset --hard\n",
        "# !git checkout main\n",
        "# !git pull\n",
        "print(f\"ray module path ={ray_module_path}\")\n",
        "%cd $ray_module_path\n",
        "\n",
        "# 本家にリポジトリに追従する\n",
        "!git remote add upstream \"https://github.com/ray-project/ray.git\"\n",
        "\n",
        "%cd $ncp_package_path\n",
        "#clear_output()\n",
        "print(\"\u001b[0;33mDone\")\n",
        "if ray_module_path.exists():\n",
        "  #clear_output()\n",
        "  inf('\\u2714 Done','success', '50px')\n",
        "else:\n",
        "  inf('\\u2718 Failed','danger', '50px')\n",
        "  #clear_output()\n"
      ],
      "metadata": {
        "id": "5YB7T1xWga7N"
      },
      "execution_count": null,
      "outputs": []
    },
    {
      "cell_type": "code",
      "execution_count": null,
      "metadata": {
        "id": "FVJ_fQhm1RKW"
      },
      "outputs": [],
      "source": [
        "# **mujoco 物理環境モジュールのインスール(70MBぐらいある)**\n",
        "!pip install lz4 \"gymnasium[mujoco]\"\n",
        "\n",
        "#clear_output()\n",
        "inf('\\u2714 Done','success', '50px')"
      ]
    },
    {
      "cell_type": "code",
      "source": [
        "# **依存のインポート**\n",
        "from typing import Optional\n",
        "import os\n",
        "os.environ['CUDA_VISIBLE_DEVICES'] =\"0\"\n",
        "from pathlib import Path\n",
        "import time\n",
        "import numpy as np\n",
        "import cv2\n",
        "import tensorflow as tf\n",
        "from tensorflow import keras\n",
        "import json\n",
        "\n",
        "import matplotlib.pyplot as plt\n",
        "%matplotlib inline\n",
        "\n",
        "import gymnasium\n",
        "from gymnasium import spaces\n",
        "\n",
        "import ncps\n",
        "import ncps.tf\n",
        "from ncps.utils.video_interval_recorder import VideoIntervalRecorder\n",
        "\n",
        "import ray\n",
        "from ray.tune.registry import register_env\n",
        "from ray.rllib.models import ModelCatalog\n",
        "from ray.rllib.algorithms.ppo import PPO\n",
        "\n",
        "from ray.rllib.models.modelv2 import ModelV2\n",
        "from ray.rllib.models.tf.recurrent_net import RecurrentNetwork\n",
        "from ray.rllib.utils.annotations import override\n",
        "\n",
        "%env MUJOCO_GL=egl\n",
        "\n",
        "clear_output()\n",
        "inf('\\u2714 Done','success', '50px')"
      ],
      "metadata": {
        "id": "TI4qiTZqbYqw",
        "colab": {
          "base_uri": "https://localhost:8080/",
          "height": 49,
          "referenced_widgets": [
            "bdfa06e43116469d9b017ad40cb190a9",
            "4b78b81061204aea905fcb1a68c7c47f",
            "b6144bc383664206a6b7b4a68bcf4e80"
          ]
        },
        "outputId": "ceae2880-0bd4-4ed0-d763-49a06438ecc2"
      },
      "execution_count": null,
      "outputs": [
        {
          "output_type": "display_data",
          "data": {
            "text/plain": [
              "Button(button_style='success', description='✔ Done', disabled=True, layout=Layout(min_width='50px'), style=But…"
            ],
            "application/vnd.jupyter.widget-view+json": {
              "version_major": 2,
              "version_minor": 0,
              "model_id": "bdfa06e43116469d9b017ad40cb190a9"
            }
          },
          "metadata": {}
        }
      ]
    },
    {
      "cell_type": "markdown",
      "metadata": {
        "id": "lXbcIGBT69sf"
      },
      "source": [
        "ここから、 https://ncps.readthedocs.io/en/latest/examples/mujoco_pomdp.html このサイトのコードをCoolabに移植する\n",
        "\n",
        "**Partially Observabily Reinforcement Learning**\n",
        "================================================\n",
        "\n",
        "このガイドでは、部分的に観察可能なマルコフ決定プロセス (POMDP) を解決するために CfC ネットワークをトレーニングします。\n",
        "特に、「HalfCheetah Mujoco 環境   \n",
        "https://gymnasium.farama.org/environments/mujoco/half_cheetah/)    \n",
        "の部分的に観察可能なバージョンを検討します。\n",
        "さらに、観測値がノイズによって破損した場合にも、学習済みポリシーの堅牢性をテストするために、学習済みポリシーを評価します。\n",
        "このチュートリアルは、強化学習で CfC ネットワークを使用するための初心者ガイドとして機能します。\n",
        "カスタム CfC ネットワークを定義する方法と、それを\"rllib\"   \n",
        " (https://docs.ray.io/en/latest/rllib/index.html)   \n",
        " で使用する方法、および\n",
        "部分的に観測可能な環境における RNN の利点を実証します。\n",
        "\n",
        " 「近接ポリシー最適化 (PPO) 」 のコードは TensorFlow 用に提供されており、   \n",
        " (https://arxiv.org/abs/1707.06347)   \n",
        "\n",
        " 「ray\\[rllib\\]」   \n",
        " (https://docs.ray.io/en/latest/rllib/index.html)   \n",
        "_HalfCheetah 環境用の実装「gymnasium\\[mujoco\\]   \n",
        "  (https://gymnasium.farama.org/environments/mujoco)   \n",
        " に依存しています。\n",
        "\n",
        "<img src=\"https://ncps.readthedocs.io/en/latest/_images/half_cheetah.png\" width=\"200\">"
      ]
    },
    {
      "cell_type": "markdown",
      "metadata": {
        "id": "FL7JV2zHAr_G"
      },
      "source": []
    },
    {
      "cell_type": "markdown",
      "metadata": {
        "id": "11JOZcDqEfnt"
      },
      "source": [
        "**Partially Observable HalfCheetah**   \n",
        "部分的に観察可能なハーフチーター   \n",
        "First, we need to create a partially observable version of the HalfCheetah environment. We do this by wrapping the original environment in a gymnasium.ObservationWrapper   \n",
        "\n",
        "まず、HalfCheetah 環境の部分的に観察可能なバージョンを作成する必要があります。 これを行うには、元の環境をラップします。\n",
        "\n"
      ]
    },
    {
      "cell_type": "code",
      "source": [
        "#@markdown # global parameter\n",
        "# render_mode = None / \"human\" / \"rgb_array\" ...\n",
        "render_mode = \"rgb_array\" #@param {type:\"string\"}\n",
        "record_interval = 10  #@param {type:\"integer\"}\n",
        "video_capture_interval = 1  #@param {type:\"integer\"}"
      ],
      "metadata": {
        "id": "b9ZiE6xNSh3y"
      },
      "execution_count": null,
      "outputs": []
    },
    {
      "cell_type": "code",
      "execution_count": null,
      "metadata": {
        "id": "L-CMzkVj0spl"
      },
      "outputs": [],
      "source": [
        "class PartialObservation(gymnasium.ObservationWrapper):\n",
        "    def __init__(self, env: gymnasium.Env, obs_indices: list):\n",
        "        gymnasium.ObservationWrapper.__init__(self, env)\n",
        "\n",
        "        obsspace = env.observation_space\n",
        "        self.obs_indices = obs_indices\n",
        "        self.observation_space = spaces.Box(\n",
        "            low=np.array([obsspace.low[i] for i in obs_indices]),\n",
        "            high=np.array([obsspace.high[i] for i in obs_indices]),\n",
        "            dtype=np.float32,\n",
        "        )\n",
        "\n",
        "        self._env = env\n",
        "\n",
        "    def observation(self, observation):\n",
        "        filter_observation = self._filter_observation(observation)\n",
        "        return filter_observation\n",
        "\n",
        "    def _filter_observation(self, observation):\n",
        "        observation = np.array([observation[i] for i in self.obs_indices])\n",
        "        return observation\n",
        "\n",
        "# Concretely, we will remove all joint velcities from the observation space.\n",
        "# 具体的には、観測空間からすべての関節速度を削除します。\n",
        "def make_partial_observation_cheetah():\n",
        "    return PartialObservation(\n",
        "      #gymnasium.make(\"HalfCheetah-v4\"), [0, 1, 2, 3, 8, 9, 10, 11, 12]\n",
        "      gymnasium.make(\"HalfCheetah-v4\", render_mode=render_mode), [0, 1, 2, 3, 8, 9, 10, 11, 12]\n",
        "    )"
      ]
    },
    {
      "cell_type": "markdown",
      "metadata": {
        "id": "gWWhhcGCFlmb"
      },
      "source": [
        "**CfC Policy Network**   \n",
        "Next, we will subclass ray.rllib.models.tf.recurrent_net.RecurrentNetwork to define our CfC policy network. The network comprises of two dense layers followed by a CfC layer.   \n",
        "次に、ray.rllib.models.tf.recurrent_net.RecurrentNetwork をサブクラス化して、CfC ポリシー ネットワークを定義します。 ネットワークは、2 つの高密度層とそれに続く CfC 層で構成されます。\n",
        "\n"
      ]
    },
    {
      "cell_type": "code",
      "execution_count": null,
      "metadata": {
        "id": "RkTtSnDTFwd_"
      },
      "outputs": [],
      "source": [
        "class CustomRNN(RecurrentNetwork):\n",
        "    \"\"\"Example of using the Keras functional API to define a RNN model.\"\"\"\n",
        "\n",
        "    def __init__(\n",
        "        self,\n",
        "        obs_space,\n",
        "        action_space,\n",
        "        num_outputs,\n",
        "        model_config,\n",
        "        name,\n",
        "        cell_size=64,\n",
        "    ):\n",
        "        super(CustomRNN, self).__init__(\n",
        "            obs_space, action_space, num_outputs, model_config, name\n",
        "        )\n",
        "        self.cell_size = cell_size\n",
        "\n",
        "        # Define input layers\n",
        "        input_layer = tf.keras.layers.Input(\n",
        "            shape=(None, obs_space.shape[0]),\n",
        "            name=\"inputs\",\n",
        "        )\n",
        "        state_in_h = tf.keras.layers.Input(shape=(cell_size,), name=\"h\")\n",
        "        seq_in = tf.keras.layers.Input(shape=(), name=\"seq_in\", dtype=tf.int32)\n",
        "\n",
        "        # Preprocess observation with a hidden layer and send to RNN\n",
        "        self.preprocess_layers = tf.keras.models.Sequential(\n",
        "            [\n",
        "                tf.keras.Input((obs_space.shape[0],)),  # batch dimension is implicit\n",
        "                tf.keras.layers.Dense(256, activation=\"silu\"),\n",
        "                tf.keras.layers.Dense(256, activation=\"silu\"),\n",
        "            ]\n",
        "        )\n",
        "        self.td_preprocess = tf.keras.layers.TimeDistributed(self.preprocess_layers)\n",
        "\n",
        "        dense1 = self.td_preprocess(input_layer)\n",
        "        rnn_out, state_h = ncps.tf.CfC(\n",
        "            cell_size, return_sequences=True, return_state=True, name=\"rnn\"\n",
        "        )(\n",
        "            inputs=dense1,\n",
        "            mask=tf.sequence_mask(seq_in),\n",
        "            initial_state=[state_in_h],\n",
        "        )\n",
        "        logits = tf.keras.layers.Dense(\n",
        "            self.num_outputs, activation=None, name=\"logits\"\n",
        "        )(rnn_out)\n",
        "        values = tf.keras.layers.Dense(1, activation=None, name=\"values\")(rnn_out)\n",
        "\n",
        "        # Create the RNN model\n",
        "        self.rnn_model = tf.keras.Model(\n",
        "            inputs=[input_layer, seq_in, state_in_h],\n",
        "            outputs=[logits, values, state_h],\n",
        "        )\n",
        "        self.rnn_model.summary()\n",
        "\n",
        "    @override(RecurrentNetwork)\n",
        "    def forward_rnn(self, inputs, state, seq_lens):\n",
        "        model_out, self._value_out, h = self.rnn_model([inputs, seq_lens] + state)\n",
        "        return model_out, [h]\n",
        "\n",
        "    @override(ModelV2)\n",
        "    def get_initial_state(self):\n",
        "        return [\n",
        "            np.zeros(self.cell_size, np.float32),\n",
        "        ]\n",
        "\n",
        "    @override(ModelV2)\n",
        "    def value_function(self):\n",
        "        return tf.reshape(self._value_out, [-1])"
      ]
    },
    {
      "cell_type": "markdown",
      "metadata": {
        "id": "WzNjpzg1GREQ"
      },
      "source": [
        "**Evaluate Function**   \n",
        "評価関数\n",
        "Next, we will define a function that evaluates the performance of a policy network with optional noise injected to the observations.   \n",
        "次に、観測値に注入されたオプションのノイズを使用してポリシー ネットワークのパフォーマンスを評価する関数を定義します。\n"
      ]
    },
    {
      "cell_type": "code",
      "source": [
        "def run_closed_loop(\n",
        "    algo, rnn_cell_size, n_episodes=10, pertubation_level=0.0, apply_filter=True, video_path:Optional[Path]=None\n",
        "):\n",
        "    print(f\"(env build\")\n",
        "    env = make_partial_observation_cheetah()\n",
        "    init_state = None\n",
        "    state = None\n",
        "    if rnn_cell_size is not None:\n",
        "        state = init_state = [np.zeros(rnn_cell_size, np.float32)]\n",
        "    obs, info = env.reset()\n",
        "    ep = 0\n",
        "    ep_rewards = []\n",
        "    reward = 0\n",
        "    action_count = 0\n",
        "\n",
        "    #video 記録\n",
        "    video_recorder = None\n",
        "    if video_path is not None:\n",
        "        video_recorder = VideoIntervalRecorder(video_path.parent,video_path.stem,30,60*60*24)\n",
        "\n",
        "    render_img = env.render()\n",
        "    render_size = (320,240)\n",
        "    resize_img = cv2.resize(render_img, render_size)\n",
        "    #print(f\"img shape: {resize_img.shape}\")  #img shape: (480, 480, 3)\n",
        "    pltimg = plt.imshow(resize_img) # only call this once\n",
        "    rct = 0\n",
        "    while ep < n_episodes:\n",
        "        if pertubation_level > 0.0:\n",
        "            obs = obs + np.random.default_rng().normal(0, pertubation_level, obs.shape)\n",
        "\n",
        "        if apply_filter:\n",
        "            filter = algo.workers.local_worker().filters.get(\"default_policy\")\n",
        "            obs = filter(obs, update=False)\n",
        "\n",
        "        if rnn_cell_size is None:\n",
        "            action = algo.compute_single_action(\n",
        "                obs, explore=False, policy_id=\"default_policy\"\n",
        "            )\n",
        "        else:\n",
        "            action, state, _ = algo.compute_single_action(\n",
        "                obs, state=state, explore=False, policy_id=\"default_policy\"\n",
        "            )\n",
        "\n",
        "        obs, r, terminated, truncated, info = env.step(action)\n",
        "        if render_mode is not None:\n",
        "            if render_mode == \"rgb_array\" and rct%video_capture_interval == 0:\n",
        "                render_img = env.render()\n",
        "                resize_img = cv2.resize(render_img, render_size) # render speed up (network band etc)\n",
        "                if video_recorder is not None:\n",
        "                    render_img = cv2.resize(render_img, render_size) # render speed up (network band etc)\n",
        "                    video_recorder.update(render_img,0)\n",
        "                else:\n",
        "                    display.clear_output(wait=True)\n",
        "                    #plt.imshow(resize_img)\n",
        "                    pltimg.set_data(resize_img) # just update the data\n",
        "                    display(plt.gcf())\n",
        "            rct += 1\n",
        "\n",
        "        reward += r\n",
        "        if terminated or truncated:\n",
        "            ep += 1\n",
        "            obs, info = env.reset()\n",
        "            state = init_state\n",
        "            ep_rewards.append(reward)\n",
        "            reward = 0\n",
        "            #print(f\"({ep})/action({action_count}) finished.\")\n",
        "            action_count = 0\n",
        "        else:\n",
        "            action_count += 1\n",
        "    if video_recorder is not None:\n",
        "        video_recorder.release()\n",
        "\n",
        "    return np.mean(ep_rewards)\n"
      ],
      "metadata": {
        "id": "pd6qcpJPvXhf"
      },
      "execution_count": null,
      "outputs": []
    },
    {
      "cell_type": "markdown",
      "metadata": {
        "id": "j63urYOyKKgM"
      },
      "source": [
        "\n",
        "***Training Code***   \n",
        "Finally, we will define a function that trains a policy network. To compare the performance of the CfC policy network with a baseline, we will make the function such that it can train a CfC policy network or an MLP baseline policy network.   \n",
        "**トレーニング コード**   \n",
        "最後に、ポリシー ネットワークをトレーニングする関数を定義します。 CfC ポリシー ネットワークのパフォーマンスをベースラインと比較するために、CfC ポリシー ネットワークまたは MLP ベースライン ポリシー ネットワークを学習できる機能を作成します。\n",
        "\n",
        "Note\n",
        "Exact learning curves and performance numbers will vary between runs.\n",
        "Once we have defined everything we can compare the two network architectures.\n",
        "注記 正確な学習曲線とパフォーマンス数値は実行ごとに異なります。 すべてを定義したら、2 つのネットワーク アーキテクチャを比較できます。\n",
        "\n",
        "As we have see in the runtime following plot, although the MLP baseline policy network experiences a faster initial improvement, the CfC policy network eventually outperforms the MLP baseline policy network, while also being more robust to noise.\n",
        "\n",
        "次の実行時のプロットでわかるように、MLP ベースライン ポリシー ネットワークの方が初期改善が早いにもかかわらず、CfC ポリシー ネットワークは最終的に MLP ベースライン ポリシー ネットワークよりも優れたパフォーマンスを示し、同時にノイズに対してより堅牢です。"
      ]
    },
    {
      "cell_type": "code",
      "execution_count": null,
      "metadata": {
        "id": "dT4T3JXUNW6V"
      },
      "outputs": [],
      "source": [
        "\n",
        "def load_algo(config, max_iter, result_dir:Optional[Path]=None):\n",
        "\n",
        "    files = os.listdir(result_dir)\n",
        "    iter_num = -1\n",
        "    for file in files:\n",
        "        if file.startswith(\"iter_\"):\n",
        "            iter_num = max(iter_num, int(file.split(\"_\")[1]))\n",
        "\n",
        "    if iter_num >= 0:\n",
        "        iter_dir = result_dir.joinpath(f\"iter_{iter_num:04}\")\n",
        "        algo = PPO.from_checkpoint(iter_dir)\n",
        "        #algo.restore(iter_dir)\n",
        "        clear_output()\n",
        "        print(f\"iter_num = {iter_num}. resume from {iter_dir}\")\n",
        "        js = json.load(open(result_dir.joinpath(\"history.json\"), \"r\"))\n",
        "    else:\n",
        "        algo = PPO(config=config)\n",
        "        clear_output()\n",
        "        js = {\"reward\": [], \"reward_noise\": [], \"iteration\": []}\n",
        "        iter_num = 1\n",
        "\n",
        "    return algo, iter_num, js\n",
        "\n",
        "\n",
        "def run_algo(model_name, num_iters, result_dir:Optional[Path]=None):\n",
        "    config = {\n",
        "        \"env\": \"my_env\",\n",
        "        \"gamma\": 0.99,\n",
        "        \"num_gpus\": 1, #\n",
        "        \"num_workers\": 16, # default=16\n",
        "        \"num_envs_per_worker\": 4,\n",
        "        \"lambda\": 0.95,\n",
        "        \"kl_coeff\": 1.0,\n",
        "        \"num_sgd_iter\": 64,\n",
        "        \"lr\": 0.0005,\n",
        "        \"vf_loss_coeff\": 0.5,\n",
        "        \"clip_param\": 0.1,\n",
        "        \"sgd_minibatch_size\": 4096,\n",
        "        \"train_batch_size\": 65536,\n",
        "        \"grad_clip\": 0.5,\n",
        "        \"batch_mode\": \"truncate_episodes\",\n",
        "        \"observation_filter\": \"MeanStdFilter\",\n",
        "        \"framework\": \"tf\",\n",
        "        #\"run_refuse\": True\n",
        "    }\n",
        "    rnn_cell_size = None\n",
        "    if model_name == \"cfc_rnn\":\n",
        "        rnn_cell_size = 64\n",
        "        config[\"model\"] = {\n",
        "            \"vf_share_layers\": True,\n",
        "            \"custom_model\": \"cfc_rnn\",\n",
        "            \"custom_model_config\": {\n",
        "                \"cell_size\": rnn_cell_size,\n",
        "            },\n",
        "        }\n",
        "    elif model_name == \"default\":\n",
        "        pass\n",
        "    else:\n",
        "        raise ValueError(f\"Unknown model type {model_name}\")\n",
        "\n",
        "    if result_dir is not None:\n",
        "        result_dir_path = result_dir.joinpath(f\"{model_name}\")\n",
        "        result_dir_path.mkdir(parents=True, exist_ok=True)\n",
        "\n",
        "    #algo = PPO(config=config)\n",
        "    # load model\n",
        "    algo, start_iter, history = load_algo(config, num_iters, result_dir_path)\n",
        "    print(f\"start_iter = {start_iter}\")\n",
        "    #history = {\"reward\": [], \"reward_noise\": [], \"iteration\": []}\n",
        "\n",
        "    for iteration in range(start_iter, num_iters + 1):\n",
        "        algo.train()\n",
        "        if iteration % record_interval == 0 or iteration == 1:\n",
        "            video_path = None\n",
        "            video_path_noise = None\n",
        "            if result_dir is not None:\n",
        "                iter_dir = result_dir_path.joinpath(f\"iter_{iteration:04}\")\n",
        "                iter_dir.mkdir(parents=True, exist_ok=True)\n",
        "                # チェックポイントの保存\n",
        "                algo.save(iter_dir)\n",
        "                # prview 動画の保存\n",
        "                video_path = iter_dir.joinpath(f\"preview.mp4\")\n",
        "                video_path_noise = iter_dir.joinpath(f\"preview_noise.mp4\")\n",
        "\n",
        "            history[\"iteration\"].append(iteration)\n",
        "            history[\"reward\"].append(\n",
        "                run_closed_loop(algo, rnn_cell_size, video_path=video_path)\n",
        "            )\n",
        "            history[\"reward_noise\"].append(\n",
        "                run_closed_loop(algo, rnn_cell_size, pertubation_level=0.1, video_path=video_path_noise)\n",
        "            )\n",
        "            print(\n",
        "                f\"{model_name} iteration {iteration}: {history['reward'][-1]:0.2f}, with noise: {history['reward_noise'][-1]:0.2f}\"\n",
        "            )\n",
        "            # history　を保存\n",
        "            history_path = result_dir_path.joinpath(f\"history.json\")\n",
        "            with open(history_path, \"w\", encoding='utf-8') as f:\n",
        "                json.dump(history, f)\n",
        "\n",
        "    return history\n",
        "\n",
        "if __name__ == \"__main__\":\n",
        "    result_dir = project_path.joinpath(\"halfcheetah\")\n",
        "    ray.shutdown()\n",
        "    ModelCatalog.register_custom_model(\"cfc_rnn\", CustomRNN)\n",
        "    register_env(\"my_env\", lambda env_config: make_partial_observation_cheetah())\n",
        "    ray.init(num_cpus=24, num_gpus=1)\n",
        "    cfc_result = run_algo(\"cfc_rnn\", 1000, result_dir)\n",
        "    ray.shutdown()\n",
        "    ModelCatalog.register_custom_model(\"cfc_rnn\", CustomRNN)\n",
        "    register_env(\"my_env\", lambda env_config: make_partial_observation_cheetah())\n",
        "    ray.init(num_cpus=24, num_gpus=1)\n",
        "    mlp_result = run_algo(\"default\", 1000, result_dir)\n",
        "\n",
        "    fig, ax = plt.subplots(figsize=(10, 6))\n",
        "    ax.plot(\n",
        "        mlp_result[\"iteration\"], mlp_result[\"reward\"], label=\"MLP\", color=\"tab:orange\"\n",
        "    )\n",
        "    ax.plot(\n",
        "        cfc_result[\"iteration\"], cfc_result[\"reward\"], label=\"CfC\", color=\"tab:blue\"\n",
        "    )\n",
        "    ax.plot(\n",
        "        mlp_result[\"iteration\"],\n",
        "        mlp_result[\"reward_noise\"],\n",
        "        label=\"MLP (noise)\",\n",
        "        color=\"tab:orange\",\n",
        "        ls=\"--\",\n",
        "    )\n",
        "    ax.plot(\n",
        "        cfc_result[\"iteration\"],\n",
        "        cfc_result[\"reward_noise\"],\n",
        "        label=\"CfC (noise)\",\n",
        "        color=\"tab:blue\",\n",
        "        ls=\"--\",\n",
        "    )\n",
        "    ax.legend(loc=\"upper left\")\n",
        "    fig.tight_layout()\n",
        "    plt.savefig(\"cfc_vs_mlp.png\")"
      ]
    }
  ],
  "metadata": {
    "colab": {
      "machine_shape": "hm",
      "provenance": [],
      "gpuType": "T4"
    },
    "kernelspec": {
      "display_name": "Python 3",
      "name": "python3"
    },
    "language_info": {
      "codemirror_mode": {
        "name": "ipython",
        "version": 3
      },
      "file_extension": ".py",
      "mimetype": "text/x-python",
      "name": "python",
      "nbconvert_exporter": "python",
      "pygments_lexer": "ipython3",
      "version": "3.10.12"
    },
    "widgets": {
      "application/vnd.jupyter.widget-state+json": {
        "b5f1f8473dd940329fd368394d4df01c": {
          "model_module": "@jupyter-widgets/controls",
          "model_name": "ButtonModel",
          "model_module_version": "1.5.0",
          "state": {
            "_dom_classes": [],
            "_model_module": "@jupyter-widgets/controls",
            "_model_module_version": "1.5.0",
            "_model_name": "ButtonModel",
            "_view_count": null,
            "_view_module": "@jupyter-widgets/controls",
            "_view_module_version": "1.5.0",
            "_view_name": "ButtonView",
            "button_style": "success",
            "description": "✔ Done",
            "disabled": true,
            "icon": "",
            "layout": "IPY_MODEL_21c32a74dcf24c90ac635f43fd488a41",
            "style": "IPY_MODEL_c77a4055ae454b10b7b2efa67d061bc7",
            "tooltip": ""
          }
        },
        "21c32a74dcf24c90ac635f43fd488a41": {
          "model_module": "@jupyter-widgets/base",
          "model_name": "LayoutModel",
          "model_module_version": "1.2.0",
          "state": {
            "_model_module": "@jupyter-widgets/base",
            "_model_module_version": "1.2.0",
            "_model_name": "LayoutModel",
            "_view_count": null,
            "_view_module": "@jupyter-widgets/base",
            "_view_module_version": "1.2.0",
            "_view_name": "LayoutView",
            "align_content": null,
            "align_items": null,
            "align_self": null,
            "border": null,
            "bottom": null,
            "display": null,
            "flex": null,
            "flex_flow": null,
            "grid_area": null,
            "grid_auto_columns": null,
            "grid_auto_flow": null,
            "grid_auto_rows": null,
            "grid_column": null,
            "grid_gap": null,
            "grid_row": null,
            "grid_template_areas": null,
            "grid_template_columns": null,
            "grid_template_rows": null,
            "height": null,
            "justify_content": null,
            "justify_items": null,
            "left": null,
            "margin": null,
            "max_height": null,
            "max_width": null,
            "min_height": null,
            "min_width": "50px",
            "object_fit": null,
            "object_position": null,
            "order": null,
            "overflow": null,
            "overflow_x": null,
            "overflow_y": null,
            "padding": null,
            "right": null,
            "top": null,
            "visibility": null,
            "width": null
          }
        },
        "c77a4055ae454b10b7b2efa67d061bc7": {
          "model_module": "@jupyter-widgets/controls",
          "model_name": "ButtonStyleModel",
          "model_module_version": "1.5.0",
          "state": {
            "_model_module": "@jupyter-widgets/controls",
            "_model_module_version": "1.5.0",
            "_model_name": "ButtonStyleModel",
            "_view_count": null,
            "_view_module": "@jupyter-widgets/base",
            "_view_module_version": "1.2.0",
            "_view_name": "StyleView",
            "button_color": null,
            "font_weight": ""
          }
        },
        "8dc3e9b9aa29452881a70916f140b425": {
          "model_module": "@jupyter-widgets/controls",
          "model_name": "ButtonModel",
          "model_module_version": "1.5.0",
          "state": {
            "_dom_classes": [],
            "_model_module": "@jupyter-widgets/controls",
            "_model_module_version": "1.5.0",
            "_model_name": "ButtonModel",
            "_view_count": null,
            "_view_module": "@jupyter-widgets/controls",
            "_view_module_version": "1.5.0",
            "_view_name": "ButtonView",
            "button_style": "success",
            "description": "✔ Done",
            "disabled": true,
            "icon": "",
            "layout": "IPY_MODEL_96004815cc124e00be70d580ae8c0a00",
            "style": "IPY_MODEL_c8e74f86454e4ce8b88d643317437ab7",
            "tooltip": ""
          }
        },
        "96004815cc124e00be70d580ae8c0a00": {
          "model_module": "@jupyter-widgets/base",
          "model_name": "LayoutModel",
          "model_module_version": "1.2.0",
          "state": {
            "_model_module": "@jupyter-widgets/base",
            "_model_module_version": "1.2.0",
            "_model_name": "LayoutModel",
            "_view_count": null,
            "_view_module": "@jupyter-widgets/base",
            "_view_module_version": "1.2.0",
            "_view_name": "LayoutView",
            "align_content": null,
            "align_items": null,
            "align_self": null,
            "border": null,
            "bottom": null,
            "display": null,
            "flex": null,
            "flex_flow": null,
            "grid_area": null,
            "grid_auto_columns": null,
            "grid_auto_flow": null,
            "grid_auto_rows": null,
            "grid_column": null,
            "grid_gap": null,
            "grid_row": null,
            "grid_template_areas": null,
            "grid_template_columns": null,
            "grid_template_rows": null,
            "height": null,
            "justify_content": null,
            "justify_items": null,
            "left": null,
            "margin": null,
            "max_height": null,
            "max_width": null,
            "min_height": null,
            "min_width": "50px",
            "object_fit": null,
            "object_position": null,
            "order": null,
            "overflow": null,
            "overflow_x": null,
            "overflow_y": null,
            "padding": null,
            "right": null,
            "top": null,
            "visibility": null,
            "width": null
          }
        },
        "c8e74f86454e4ce8b88d643317437ab7": {
          "model_module": "@jupyter-widgets/controls",
          "model_name": "ButtonStyleModel",
          "model_module_version": "1.5.0",
          "state": {
            "_model_module": "@jupyter-widgets/controls",
            "_model_module_version": "1.5.0",
            "_model_name": "ButtonStyleModel",
            "_view_count": null,
            "_view_module": "@jupyter-widgets/base",
            "_view_module_version": "1.2.0",
            "_view_name": "StyleView",
            "button_color": null,
            "font_weight": ""
          }
        },
        "2a439cbde5df467586b71944682f9f7d": {
          "model_module": "@jupyter-widgets/controls",
          "model_name": "ButtonModel",
          "model_module_version": "1.5.0",
          "state": {
            "_dom_classes": [],
            "_model_module": "@jupyter-widgets/controls",
            "_model_module_version": "1.5.0",
            "_model_name": "ButtonModel",
            "_view_count": null,
            "_view_module": "@jupyter-widgets/controls",
            "_view_module_version": "1.5.0",
            "_view_name": "ButtonView",
            "button_style": "success",
            "description": "✔ Done",
            "disabled": true,
            "icon": "",
            "layout": "IPY_MODEL_44bdbbfb3a2449df9d126bdaaf3ecbac",
            "style": "IPY_MODEL_68b09618ac8e4c7b84568c94c30be94e",
            "tooltip": ""
          }
        },
        "44bdbbfb3a2449df9d126bdaaf3ecbac": {
          "model_module": "@jupyter-widgets/base",
          "model_name": "LayoutModel",
          "model_module_version": "1.2.0",
          "state": {
            "_model_module": "@jupyter-widgets/base",
            "_model_module_version": "1.2.0",
            "_model_name": "LayoutModel",
            "_view_count": null,
            "_view_module": "@jupyter-widgets/base",
            "_view_module_version": "1.2.0",
            "_view_name": "LayoutView",
            "align_content": null,
            "align_items": null,
            "align_self": null,
            "border": null,
            "bottom": null,
            "display": null,
            "flex": null,
            "flex_flow": null,
            "grid_area": null,
            "grid_auto_columns": null,
            "grid_auto_flow": null,
            "grid_auto_rows": null,
            "grid_column": null,
            "grid_gap": null,
            "grid_row": null,
            "grid_template_areas": null,
            "grid_template_columns": null,
            "grid_template_rows": null,
            "height": null,
            "justify_content": null,
            "justify_items": null,
            "left": null,
            "margin": null,
            "max_height": null,
            "max_width": null,
            "min_height": null,
            "min_width": "50px",
            "object_fit": null,
            "object_position": null,
            "order": null,
            "overflow": null,
            "overflow_x": null,
            "overflow_y": null,
            "padding": null,
            "right": null,
            "top": null,
            "visibility": null,
            "width": null
          }
        },
        "68b09618ac8e4c7b84568c94c30be94e": {
          "model_module": "@jupyter-widgets/controls",
          "model_name": "ButtonStyleModel",
          "model_module_version": "1.5.0",
          "state": {
            "_model_module": "@jupyter-widgets/controls",
            "_model_module_version": "1.5.0",
            "_model_name": "ButtonStyleModel",
            "_view_count": null,
            "_view_module": "@jupyter-widgets/base",
            "_view_module_version": "1.2.0",
            "_view_name": "StyleView",
            "button_color": null,
            "font_weight": ""
          }
        },
        "bdfa06e43116469d9b017ad40cb190a9": {
          "model_module": "@jupyter-widgets/controls",
          "model_name": "ButtonModel",
          "model_module_version": "1.5.0",
          "state": {
            "_dom_classes": [],
            "_model_module": "@jupyter-widgets/controls",
            "_model_module_version": "1.5.0",
            "_model_name": "ButtonModel",
            "_view_count": null,
            "_view_module": "@jupyter-widgets/controls",
            "_view_module_version": "1.5.0",
            "_view_name": "ButtonView",
            "button_style": "success",
            "description": "✔ Done",
            "disabled": true,
            "icon": "",
            "layout": "IPY_MODEL_4b78b81061204aea905fcb1a68c7c47f",
            "style": "IPY_MODEL_b6144bc383664206a6b7b4a68bcf4e80",
            "tooltip": ""
          }
        },
        "4b78b81061204aea905fcb1a68c7c47f": {
          "model_module": "@jupyter-widgets/base",
          "model_name": "LayoutModel",
          "model_module_version": "1.2.0",
          "state": {
            "_model_module": "@jupyter-widgets/base",
            "_model_module_version": "1.2.0",
            "_model_name": "LayoutModel",
            "_view_count": null,
            "_view_module": "@jupyter-widgets/base",
            "_view_module_version": "1.2.0",
            "_view_name": "LayoutView",
            "align_content": null,
            "align_items": null,
            "align_self": null,
            "border": null,
            "bottom": null,
            "display": null,
            "flex": null,
            "flex_flow": null,
            "grid_area": null,
            "grid_auto_columns": null,
            "grid_auto_flow": null,
            "grid_auto_rows": null,
            "grid_column": null,
            "grid_gap": null,
            "grid_row": null,
            "grid_template_areas": null,
            "grid_template_columns": null,
            "grid_template_rows": null,
            "height": null,
            "justify_content": null,
            "justify_items": null,
            "left": null,
            "margin": null,
            "max_height": null,
            "max_width": null,
            "min_height": null,
            "min_width": "50px",
            "object_fit": null,
            "object_position": null,
            "order": null,
            "overflow": null,
            "overflow_x": null,
            "overflow_y": null,
            "padding": null,
            "right": null,
            "top": null,
            "visibility": null,
            "width": null
          }
        },
        "b6144bc383664206a6b7b4a68bcf4e80": {
          "model_module": "@jupyter-widgets/controls",
          "model_name": "ButtonStyleModel",
          "model_module_version": "1.5.0",
          "state": {
            "_model_module": "@jupyter-widgets/controls",
            "_model_module_version": "1.5.0",
            "_model_name": "ButtonStyleModel",
            "_view_count": null,
            "_view_module": "@jupyter-widgets/base",
            "_view_module_version": "1.2.0",
            "_view_name": "StyleView",
            "button_color": null,
            "font_weight": ""
          }
        }
      }
    },
    "accelerator": "GPU"
  },
  "nbformat": 4,
  "nbformat_minor": 0
}